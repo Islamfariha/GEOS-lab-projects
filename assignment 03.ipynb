{
 "cells": [
  {
   "cell_type": "raw",
   "id": "2f0670ee",
   "metadata": {},
   "source": [
    "---\n",
    "title: Assignment 3\n",
    "subtitle: 'GEOS 300, 2024'\n",
    "execute:\n",
    "  keep-ipynb: true\n",
    "echo: false\n",
    "---"
   ]
  },
  {
   "cell_type": "markdown",
   "id": "0ca13ea8",
   "metadata": {},
   "source": [
    "[Python and R code templates be found here](https://github.com/GEOS300/Assignment03) to help get you started.\n",
    "\n",
    "\n",
    "## Instructions\n",
    "\n",
    "It is strongly recommended that you complete the assignment in Python or R, although you can complete it in excel/numbers if necessary.  They will download the data for you and get you started with a few blocks of code to make plots and tables.  If you are electing to complete the lab in excel, you can find all the relevant data files here [here](https://github.com/GEOS300/AssignmentData/).  **Note** these data are in .csv format.  If you plan to work in excel, you should save a copy of the data in a suitable excel format (e.g., .xlsx) before making any charts or doing any calculations.\n",
    "\n",
    "Please upload your answers including all calculations, discussions, tables, and graphs in a single document (PDF or HTML file). Note that you can download your .ipynb file under 'File $\\gg$ Download as $\\gg$ HTLM or PDF via Latex' and submit this as your report. Label the report document with your name and your student number. Upload your answers to Canvas. **Do not attach a spreadsheet.**\n",
    "\n",
    "**Make Sure** your student number is include on each plot you produce, and that each plot is using the correct units.\n",
    "\n",
    "\n",
    "\n",
    "In this exercise you will use a 30-min data-set measured above an extensively flat cotton field near [Kettleman City, CA, US](http://www.eol.ucar.edu/rtf/projects/ebex2000/). The actual day / time is selected based on your student number, the timestamp you are responsible for can be found in (@tbl-dates). You will be provided with two tables: \n",
    "\n",
    "**Table1**: lists horizontal wind speeds $\\overline{u}$ measured with cup-anemometers installed at six heights on a profile tower averaged over 30 minutes. Air temperature and pressure are also provided in the table header.\n",
    "\n",
    "**Table2**: contains longitudinal wind $u$, lateral wind $v$ and vertical wind $w$ measured every second over the same 30 minutes by a fast-response anemometer located at 6.4 m height.\n",
    "\n",
    "* For all questions assume neutral conditions, $z_d=0$, and $P_a$ = 100 kPa.\n",
    "\n",
    "\n",
    "Last digit of student number | date (YYYmmddHHMM)\n",
    "-----------------------------|-----\n",
    "0 | 200008021530\n",
    "1 | 200008031000\n",
    "2 | 200008031030\n",
    "3 | 200008031200\n",
    "4 | 200008041030\n",
    "5 | 200008041100\n",
    "6 | 200008041130\n",
    "7 | 200008041530\n",
    "8 | 200008101230\n",
    "9 | 200008101530\n",
    "\n",
    "\n",
    ": The Timestamp you are responsible for analyzing in YYYY (Year) mm (month) dd (day) HH (hour) MM (minute) format.  The filename for your date will follow this format: YYYYmmddHHMM.txt.  e.g., wind202402141330.txt and turbulence202402141330.txt would be the files for February 14th, 2023 13:30.  If you are completing the assignment using Python or R, just edit the filename timestamp in the corresponding template. If you are completing the assignment by hand or in excel, you can find the data files [here](https://github.com/GEOS300/AssignmentData/tree/main/WesthamIslandSoilData). {#tbl-dates}\n"
   ]
  },
  {
   "cell_type": "code",
   "execution_count": 4,
   "id": "f1118373",
   "metadata": {},
   "outputs": [
    {
     "name": "stdout",
     "output_type": "stream",
     "text": [
      "GEOS 300 Assignment Submission for Fariha Islam: 0\n"
     ]
    }
   ],
   "source": [
    "#| include: false\n",
    "# Enter your information below\n",
    "Student_Name = 'Fariha Islam'\n",
    "Student_Number = 000000000\n",
    "print(f'GEOS 300 Assignment Submission for {Student_Name}: {Student_Number}')"
   ]
  },
  {
   "cell_type": "code",
   "execution_count": 5,
   "id": "1fd066d6",
   "metadata": {},
   "outputs": [],
   "source": [
    "import numpy as np\n",
    "import pandas as pd\n",
    "import matplotlib.pyplot as plt\n",
    "from datetime import datetime as dt"
   ]
  },
  {
   "cell_type": "code",
   "execution_count": 6,
   "id": "521860e9",
   "metadata": {},
   "outputs": [
    {
     "name": "stdout",
     "output_type": "stream",
     "text": [
      "Table 1 Metadata:\n",
      "# EBEX 2000, Kettleman City, CA, USA\n",
      "# Wind profile measured by cup anemometers\n",
      "# Start: 2000/08/03 12:00 PST\n",
      "# Average values over 30 min\n",
      "# Air temperature: 31.1 deg C\n",
      "# Air pressure: 101.380 kPa\n",
      "Table 1 Data:\n",
      "   Height (m)  Wind Speed (m/s)\n",
      "0        0.95              1.38\n",
      "1        1.55              1.63\n",
      "2        2.35              1.79\n",
      "3        3.72              2.01\n",
      "4        6.15              2.28\n",
      "5        9.05              2.42\n",
      "\n",
      "\n",
      "\n",
      "Table 2 Metadata:\n",
      "# EBEX 2000, Kettleman City, CA, USA\n",
      "# Turbulence data measured at 1 Hz by fast-anemometer at 6.4 m\n",
      "# Start: 2000/08/03 12:00 PST\n",
      "# u (m/s) : longitudinal wind vector component\n",
      "# v (m/s) : lateral wind vector component\n",
      "# w (m/s) : vertical wind vector component\n",
      "Table 2 Data preview:\n"
     ]
    },
    {
     "data": {
      "text/html": [
       "<div>\n",
       "<style scoped>\n",
       "    .dataframe tbody tr th:only-of-type {\n",
       "        vertical-align: middle;\n",
       "    }\n",
       "\n",
       "    .dataframe tbody tr th {\n",
       "        vertical-align: top;\n",
       "    }\n",
       "\n",
       "    .dataframe thead th {\n",
       "        text-align: right;\n",
       "    }\n",
       "</style>\n",
       "<table border=\"1\" class=\"dataframe\">\n",
       "  <thead>\n",
       "    <tr style=\"text-align: right;\">\n",
       "      <th></th>\n",
       "      <th>u (m/s)</th>\n",
       "      <th>v (m/s)</th>\n",
       "      <th>w (m/s)</th>\n",
       "    </tr>\n",
       "    <tr>\n",
       "      <th>TIMESTAMP</th>\n",
       "      <th></th>\n",
       "      <th></th>\n",
       "      <th></th>\n",
       "    </tr>\n",
       "  </thead>\n",
       "  <tbody>\n",
       "    <tr>\n",
       "      <th>2000-08-03 12:00:00</th>\n",
       "      <td>2.3323</td>\n",
       "      <td>-0.6325</td>\n",
       "      <td>-0.0209</td>\n",
       "    </tr>\n",
       "    <tr>\n",
       "      <th>2000-08-03 12:00:01</th>\n",
       "      <td>2.3164</td>\n",
       "      <td>0.0145</td>\n",
       "      <td>-0.4015</td>\n",
       "    </tr>\n",
       "    <tr>\n",
       "      <th>2000-08-03 12:00:02</th>\n",
       "      <td>2.0627</td>\n",
       "      <td>0.1010</td>\n",
       "      <td>-0.0800</td>\n",
       "    </tr>\n",
       "    <tr>\n",
       "      <th>2000-08-03 12:00:03</th>\n",
       "      <td>1.9424</td>\n",
       "      <td>-0.2551</td>\n",
       "      <td>0.0327</td>\n",
       "    </tr>\n",
       "    <tr>\n",
       "      <th>2000-08-03 12:00:04</th>\n",
       "      <td>1.7992</td>\n",
       "      <td>-0.0528</td>\n",
       "      <td>-0.0670</td>\n",
       "    </tr>\n",
       "  </tbody>\n",
       "</table>\n",
       "</div>"
      ],
      "text/plain": [
       "                     u (m/s)  v (m/s)  w (m/s)\n",
       "TIMESTAMP                                     \n",
       "2000-08-03 12:00:00   2.3323  -0.6325  -0.0209\n",
       "2000-08-03 12:00:01   2.3164   0.0145  -0.4015\n",
       "2000-08-03 12:00:02   2.0627   0.1010  -0.0800\n",
       "2000-08-03 12:00:03   1.9424  -0.2551   0.0327\n",
       "2000-08-03 12:00:04   1.7992  -0.0528  -0.0670"
      ]
     },
     "execution_count": 6,
     "metadata": {},
     "output_type": "execute_result"
    }
   ],
   "source": [
    "# Import the data from github & parse the timestamp for each record\n",
    "## **NOTE**  Make sure to edit the TimeStamp variable so it corresponds to the timestamp you were assigned.\n",
    "data_url='https://raw.githubusercontent.com/GEOS300/AssignmentData/main/KettlemanCityCottonField/'\n",
    "TimeStamp = '200008031200'\n",
    "\n",
    "# Format the links to Table 1 (mean wind speed) and Table 2 (high frequency wind data)\n",
    "Table_1_url = f'{data_url}wind{TimeStamp}.txt'\n",
    "Table_2_url = f'{data_url}turbulence{TimeStamp}.txt'\n",
    "\n",
    "# Both tables have 7 rows of metadata at the top.  We'll parse and print those before reading the rest of the data\n",
    "header_rows = 7\n",
    "\n",
    "print('Table 1 Metadata:')\n",
    "Table_1_header_info = pd.read_fwf(Table_1_url,widths=[100],nrows=header_rows,header=None)\n",
    "for i,row in Table_1_header_info.iterrows():\n",
    "    print(row.values[0])\n",
    "\n",
    "Table_1 = pd.read_csv(Table_1_url,skiprows=header_rows,na_values=-9999)\n",
    "\n",
    "print('Table 1 Data:')\n",
    "print(Table_1)\n",
    "\n",
    "print('\\n\\n')\n",
    "\n",
    "print('Table 2 Metadata:')\n",
    "Table_2_header_info = pd.read_fwf(Table_2_url,widths=[100],nrows=header_rows,header=None)\n",
    "for i,row in Table_2_header_info.iterrows():\n",
    "    print(row.values[0])\n",
    "\n",
    "# Pandas (pd here) allows us to set a timestamp as an index which lets us easily parse time series data\n",
    "Table_2 = pd.read_csv(Table_2_url,skiprows=header_rows,\n",
    "    parse_dates={'TIMESTAMP':['YYYY-MM-DD HH:MM:SS']},index_col='TIMESTAMP',na_values=-9999)\n",
    "\n",
    "\n",
    "print('Table 2 Data preview:')\n",
    "Table_2.head()\n"
   ]
  },
  {
   "cell_type": "markdown",
   "id": "14d93c69",
   "metadata": {},
   "source": [
    "## Question 1\n",
    "\n",
    "Estimate $z_0$ from the measured values vertical wind profile provided.  Indicate your estimate of $z_0$ in m and produce a log wind profile plot.  You can either use a spreadsheet/software or by hand using [semi-logarithmic graph paper](https://www.eeweb.com/wp-content/uploads/semi-log-graph-paper.pdf). **Note**: If you solve this question using a semi-logarithmic paper, use a ruler and your graphical judgement (subjective) to create the best fit through the points.\n"
   ]
  },
  {
   "cell_type": "code",
   "execution_count": 7,
   "id": "f815d0ca",
   "metadata": {},
   "outputs": [],
   "source": [
    "# Hint 1 >>\n",
    "# This function can be used to calculate the \"natural logarithm\" (ln):\n",
    "# np.log()\n",
    "\n",
    "# Hint 2 >>\n",
    "# The \"polyfit\" function can be used to estimate the slope (m) and intercept (b) of a line (Y=mX+b), \n",
    "# with the following syntax:\n",
    "# m,b np.polyfit(X,Y,1)\n",
    "\n",
    "# Hint 3 >>\n",
    "# The following set of commands can add a new first row a table \n",
    "# 1) Crate a new table with one row (without data values)\n",
    "# If you know the values you want to add, just replace np.nan with the value\n",
    "# new_first_row = pd.DataFrame(data={\n",
    "#                             'Height (m)':np.nan,\n",
    "#                             'Wind Speed (m/s)':np.nan,\n",
    "#                              # Any other columns follow the same pattern\n",
    "#                             },index=[-1])\n",
    "\n",
    "# 2) Concatenate the new row to the top of the original table then reset the index\n",
    "# Wind_Profile = pd.concat([new_first_row,Table_1]).reset_index()"
   ]
  },
  {
   "cell_type": "code",
   "execution_count": 8,
   "id": "2f855595",
   "metadata": {},
   "outputs": [
    {
     "name": "stdout",
     "output_type": "stream",
     "text": [
      "m = 2.145410313240084; b = -3.0198925388130617\n"
     ]
    },
    {
     "data": {
      "text/plain": [
       "Text(0.5, 0, 'U (m/s)')"
      ]
     },
     "execution_count": 8,
     "metadata": {},
     "output_type": "execute_result"
    },
    {
     "data": {
      "image/png": "[encoded data removed]",
      "text/plain": [
       "<Figure size 640x480 with 1 Axes>"
      ]
     },
     "metadata": {},
     "output_type": "display_data"
    }
   ],
   "source": [
    "X = (Table_1['Wind Speed (m/s)'])\n",
    "Y = np.log(Table_1['Height (m)'])\n",
    "Table_1['lnz'] = np.log(Table_1['Height (m)'])\n",
    "m,b=np.polyfit(Table_1['Wind Speed (m/s)'],Table_1['lnz'],1)\n",
    "\n",
    "print(f'm = {m}; b = {b}')\n",
    "\n",
    "#Creating a scatter plot\n",
    "\n",
    "import matplotlib.pyplot as plt\n",
    "fit, ax = plt.subplots()\n",
    "Table_1.plot(x='Wind Speed (m/s)',y='lnz',ax=ax,marker='*',label='log-profile')\n",
    "ax.scatter(0,b,marker='*',color='r',label='intercept')\n",
    "ax.grid()\n",
    "ax.set_title('Log Wind Profile')\n",
    "ax.set_ylabel('ln(z)')\n",
    "ax.set_xlabel('U (m/s)')\n"
   ]
  },
  {
   "cell_type": "code",
   "execution_count": 9,
   "id": "6d08d737",
   "metadata": {},
   "outputs": [
    {
     "name": "stdout",
     "output_type": "stream",
     "text": [
      " Answer:  The estimate of 𝑧0 is: 0.04880646288064823 metres\n"
     ]
    }
   ],
   "source": [
    "#Calculating z0\n",
    "import numpy as np\n",
    "𝑧0 = np.exp(b)\n",
    "print(f' Answer:  The estimate of 𝑧0 is: {𝑧0} metres')"
   ]
  },
  {
   "cell_type": "markdown",
   "id": "a6099cd7",
   "metadata": {},
   "source": [
    "## Question 2\n",
    "\n",
    "Based on the slope of the curve in Question 1, calculate the friction velocity $u_{\\ast}$.\n"
   ]
  },
  {
   "cell_type": "code",
   "execution_count": 10,
   "id": "21d388f6",
   "metadata": {},
   "outputs": [],
   "source": [
    "# Insert your code or text answer here.  If writing a text answer in .ipynb, change the cell type to Markdown.  If writing a text answer in .Rmd, just delete the tick marks surrounding the block"
   ]
  },
  {
   "cell_type": "code",
   "execution_count": 11,
   "id": "7e2aab20",
   "metadata": {},
   "outputs": [
    {
     "name": "stdout",
     "output_type": "stream",
     "text": [
      " Answer: The friction velocity is: 0.8796182284284344 m/s\n"
     ]
    }
   ],
   "source": [
    "k = 0.41\n",
    "𝑢_star = k*m\n",
    "print(f' Answer: The friction velocity is: {𝑢_star} m/s')"
   ]
  },
  {
   "cell_type": "markdown",
   "id": "c0cde1eb",
   "metadata": {},
   "source": [
    "##  Question 3\n",
    "\n",
    "Estimate the surface shear stress $\\tau_0$ from the result in Question 2 and with help of Appendix A3 (p. 392 ff.) in T. R. Oke, 'Boundary Layer Climates available on Canvas.\n"
   ]
  },
  {
   "cell_type": "code",
   "execution_count": 12,
   "id": "4f7cf1ba",
   "metadata": {},
   "outputs": [
    {
     "name": "stdout",
     "output_type": "stream",
     "text": [
      " The air density is: 1.14504  kg/m^3\n",
      "Answer: The surface shear stress is: 0.8859497699413075 kg/ms^2 or Nm^-2 or Pa\n"
     ]
    }
   ],
   "source": [
    "#Pressure = 100 kPa under neutral conditions\n",
    "#Temperature = 31.1 degC\n",
    "#Findind value of rho at 31.1 degC\n",
    "# Given values for interpolation\n",
    "x0 = 30.0  # temperature in °C for known value 1\n",
    "y0 = 1.149  # density in kg m⁻³ for known value 1\n",
    "x1 = 35.0  # temperature in °C for known value 2\n",
    "y1 = 1.131  # density in kg m⁻³ for known value 2\n",
    "x = 31.1  # temperature in °C we are interpolating for\n",
    "\n",
    "# Linear interpolation formula\n",
    "y = y0 + ((x - x0) * (y1 - y0) / (x1 - x0))\n",
    "\n",
    "rho = y  # This will give us the interpolated value for density at 31.1 °C\n",
    "print(f' The air density is: {rho}  kg/m^3')\n",
    "#Calculating Reynold's stress\n",
    "τ0 = (u_star**2)*(rho)\n",
    "print(f'Answer: The surface shear stress is: {τ0} kg/ms^2 or Nm^-2 or Pa')"
   ]
  },
  {
   "cell_type": "markdown",
   "id": "218a196e",
   "metadata": {},
   "source": [
    "## Question 4\n",
    "\n",
    "Estimate the eddy diffusivities for momentum $K_M$ using the wind gradients $\\Delta \\overline{u}$ in Table 1 between (a) $z=0.95$ and $1.55$ m, (b) $z=1.55$ and $2.35$ m, (c) $z=2.35$ and $3.72$ m, (d) $z=3.72$ and $6.15$ m, and (e) $z=6.15$ and $9.05$ m. How does $K_M$ change with height? Explain why.\n"
   ]
  },
  {
   "cell_type": "code",
   "execution_count": 13,
   "id": "3117ad4e",
   "metadata": {},
   "outputs": [],
   "source": [
    "# Insert your code or text answer here.  If writing a text answer in .ipynb, change the cell type to Markdown.  If writing a text answer in .Rmd, just delete the tick marks surrounding the block"
   ]
  },
  {
   "cell_type": "code",
   "execution_count": 14,
   "id": "02a88cd7",
   "metadata": {
    "scrolled": true
   },
   "outputs": [
    {
     "name": "stdout",
     "output_type": "stream",
     "text": [
      "For z=0.95m to z=1.55m, Δu̅=0.25m/s, Δz=0.6000000000000001m, gradient=0.41666666666666663s^-1, KM=1.856947746680586m^2/s\n",
      "For z=1.55m to z=2.35m, Δu̅=0.16000000000000014m/s, Δz=0.8m, gradient=0.20000000000000018s^-1, KM=3.8686411389178836m^2/s\n",
      "For z=2.35m to z=3.72m, Δu̅=0.21999999999999975m/s, Δz=1.37m, gradient=0.16058394160583922s^-1, KM=4.818216691197738m^2/s\n",
      "For z=3.72m to z=6.15m, Δu̅=0.27m/s, Δz=2.43m, gradient=0.1111111111111111s^-1, KM=6.963554050052197m^2/s\n",
      "For z=6.15m to z=9.05m, Δu̅=0.14000000000000012m/s, Δz=2.9000000000000004m, gradient=0.04827586206896555s^-1, KM=16.02722757551695m^2/s\n"
     ]
    }
   ],
   "source": [
    "# Function to calculate the eddy diffusivity for momentum (KM)\n",
    "def calculate_KM(u0, u1, z0, z1, tau, rho):\n",
    "    delta_u_bar = u1 - u0\n",
    "    delta_z = z1 - z0\n",
    "    wind_speed_gradient = delta_u_bar / delta_z\n",
    "    KM = tau / (rho * wind_speed_gradient)\n",
    "    return delta_u_bar, delta_z, wind_speed_gradient, KM\n",
    "\n",
    "# Given shear stress (τ) and air density (rho) (constant for all calculations)\n",
    "τ = 0.8859497699413075  # Shear stress in N/m^2\n",
    "rho = 1.14504  # Air density in kg/m^3\n",
    "\n",
    "# Wind speeds at different heights from the table\n",
    "wind_speeds = {\n",
    "    0.95: 1.38,  # Wind speed at z = 0.95 m in m/s\n",
    "    1.55: 1.63,  # Wind speed at z = 1.55 m in m/s\n",
    "    2.35: 1.79,  # Wind speed at z = 2.35 m in m/s\n",
    "    3.72: 2.01,  # Wind speed at z = 3.72 m in m/s\n",
    "    6.15: 2.28,  # Wind speed at z = 6.15 m in m/s\n",
    "    9.05: 2.42   # Wind speed at z = 9.05 m in m/s\n",
    "}\n",
    "\n",
    "# Heights for calculation\n",
    "height_pairs = [\n",
    "    (0.95, 1.55),\n",
    "    (1.55, 2.35),\n",
    "    (2.35, 3.72),\n",
    "    (3.72, 6.15),\n",
    "    (6.15, 9.05)\n",
    "]\n",
    "\n",
    "# Calculate KM for each height interval\n",
    "KM_values = {}\n",
    "for z0, z1 in height_pairs:\n",
    "    u0 = wind_speeds[z0]\n",
    "    u1 = wind_speeds[z1]\n",
    "    delta_u_bar, delta_z, wind_speed_gradient, KM = calculate_KM(u0, u1, z0, z1, τ, rho)\n",
    "    KM_values[(z0, z1)] = KM\n",
    "    print(f'For z={z0}m to z={z1}m, Δu̅={delta_u_bar}m/s, Δz={delta_z}m, gradient={wind_speed_gradient}s^-1, KM={KM}m^2/s')\n",
    "\n",
    "\n",
    "\n"
   ]
  },
  {
   "cell_type": "code",
   "execution_count": 15,
   "id": "9ec83477",
   "metadata": {},
   "outputs": [
    {
     "name": "stdout",
     "output_type": "stream",
     "text": [
      " Answer: The KM value for (a) z=0.95 to 1.55 m is: 1.856947746680586 m^2/s.\n",
      "The KM value for (b) z=1.55 to 2.35 m is: 3.8686411389178836 m^2/s.\n",
      "The KM value for (c) z=2.35 to 3.72 m is: 4.818216691197738 m^2/s.\n",
      "The KM value for (d) z=3.72 to 6.15 m is: 6.963554050052197 m^2/s.\n",
      "The KM value for (e) z=6.15 to 9.05 m is: 16.02722757551695 m^2/s.\n"
     ]
    }
   ],
   "source": [
    "# Printing the KM values for each height interval\n",
    "print(f' Answer: The KM value for (a) z=0.95 to 1.55 m is: {KM_values[(0.95, 1.55)]} m^2/s.')\n",
    "print(f'The KM value for (b) z=1.55 to 2.35 m is: {KM_values[(1.55, 2.35)]} m^2/s.')\n",
    "print(f'The KM value for (c) z=2.35 to 3.72 m is: {KM_values[(2.35, 3.72)]} m^2/s.')\n",
    "print(f'The KM value for (d) z=3.72 to 6.15 m is: {KM_values[(3.72, 6.15)]} m^2/s.')\n",
    "print(f'The KM value for (e) z=6.15 to 9.05 m is: {KM_values[(6.15, 9.05)]} m^2/s.')"
   ]
  },
  {
   "cell_type": "markdown",
   "id": "dce086c9",
   "metadata": {},
   "source": [
    "- ### Discussion: \n",
    "Based on the calculated values for the eddy diffusivity for momentum (KM), we can observe that KM increases with height above the ground. This pattern indicates that the turbulent mixing is more effective at higher altitudes compared to closer to the surface. Some reasons:\n",
    "\n",
    "a. Surface Roughness: Near the ground, surface roughness elements like vegetation, buildings, and other obstacles absorb energy and generate turbulence, but they also create drag that tends to slow down the air movement, reducing the efficiency of momentum transfer.\n",
    "\n",
    "b. Thermal Stratification: The stability of the atmosphere can vary with height. Near the surface, especially during the day, the ground heats the air, causing thermal turbulence which can enhance mixing. However, this effect diminishes with height as the influence of the ground's heating decreases.\n",
    "\n",
    "c. Shear Production: The velocity gradient (wind speed change with height) is typically larger closer to the ground due to the no-slip condition at the surface, leading to shear production of turbulence. As one moves away from the surface, the gradient often becomes less steep, and the production of turbulence due to shear decreases.\n",
    "\n",
    "d. Turbulent Transport: Turbulence can transport momentum upwards from the surface, leading to increased mixing as you move away from the ground. This results in higher KM values at greater heights.\n",
    "\n",
    "e. Decreased Damping: The influence of the surface, which acts to dampen turbulence, decreases with height. Therefore, the turbulent eddies can become larger and less constrained by the surface, leading to increased eddy diffusivities.\n",
    "\n",
    "f. Eddy Size (l): The size of the turbulent eddies can also increase with height. Larger eddies are capable of transporting quantities like momentum over larger distances, which increases the effective diffusion."
   ]
  },
  {
   "cell_type": "markdown",
   "id": "aaf53827",
   "metadata": {},
   "source": [
    "## Question 5\n",
    "\n",
    "From the values in Table 1, calculate the aerodynamic resistance of the momentum flux $r_{a_M}$ for the layer from the surface to 9.05 m. \n"
   ]
  },
  {
   "cell_type": "code",
   "execution_count": 16,
   "id": "44a51377",
   "metadata": {},
   "outputs": [],
   "source": [
    "# Insert your code or text answer here.  If writing a text answer in .ipynb, change the cell type to Markdown.  If writing a text answer in .Rmd, just delete the tick marks surrounding the block"
   ]
  },
  {
   "cell_type": "code",
   "execution_count": 17,
   "id": "dc6295eb",
   "metadata": {},
   "outputs": [
    {
     "name": "stdout",
     "output_type": "stream",
     "text": [
      " Answer: The aerodynamic resistance r_aM is: 3.1277132113071984 s/m\n"
     ]
    }
   ],
   "source": [
    "z0 =  0 # in metres #at surface z = 0m\n",
    "z2 = 9.05 \n",
    "u0 = 0  #in m/s #zero at surface under neutraL conditions\n",
    "u2 = 2.42 #in m/s\n",
    "del_u = u2 - u0\n",
    "\n",
    "rAM = (rho*del_u)/τ0\n",
    "print(f\" Answer: The aerodynamic resistance r_aM is: {rAM} s/m\")\n"
   ]
  },
  {
   "cell_type": "markdown",
   "id": "d0f99a52",
   "metadata": {},
   "source": [
    "## Question 6\n",
    "\n",
    "From the turbulence data provided in Table 2, calculate $\\overline{u}$, $\\overline{v}$, and $\\overline{w}$.  How does the magnitude of $\\overline{u}$ compare to $\\overline{v}$, and $\\overline{w}$?\n"
   ]
  },
  {
   "cell_type": "code",
   "execution_count": 18,
   "id": "fe780c86",
   "metadata": {},
   "outputs": [],
   "source": [
    "# Insert your code or text answer here.  If writing a text answer in .ipynb, change the cell type to Markdown.  If writing a text answer in .Rmd, just delete the tick marks surrounding the block"
   ]
  },
  {
   "cell_type": "code",
   "execution_count": 19,
   "id": "79e3879d",
   "metadata": {},
   "outputs": [
    {
     "name": "stdout",
     "output_type": "stream",
     "text": [
      "The mean longitudinal wind speed is : 2.4026935 m/s\n",
      "The mean lateral wind speed is : 1.666666666702257e-07 m/s\n",
      "The mean vertical wind speed is : -4.444444444434086e-07 m/s\n"
     ]
    }
   ],
   "source": [
    "import pandas as pd\n",
    "import numpy as np\n",
    "\n",
    "# Function to calculate the mean of a given vector component\n",
    "def calculate_mean(vector):\n",
    "    return np.mean(vector)\n",
    "\n",
    "\n",
    "\n",
    "# Calculate the mean for 'u', 'v', and 'w'\n",
    "u_mean = calculate_mean(Table_2['u (m/s)'])\n",
    "v_mean = calculate_mean(Table_2['v (m/s)'])\n",
    "w_mean = calculate_mean(Table_2['w (m/s)'])\n",
    "\n",
    "# Calculate the magnitudes comparison\n",
    "u_greater_v = np.abs(u_mean) > np.abs(v_mean)\n",
    "u_greater_w = np.abs(u_mean) > np.abs(w_mean)\n",
    "v_greater_w = np.abs(v_mean) > np.abs(w_mean)\n",
    "\n",
    "# Results\n",
    "(u_mean, v_mean, w_mean, u_greater_v, u_greater_w, v_greater_w)\n",
    "\n",
    "print(f'The mean longitudinal wind speed is : {u_mean} m/s')\n",
    "print(f'The mean lateral wind speed is : {v_mean} m/s')\n",
    "print(f'The mean vertical wind speed is : {w_mean} m/s')"
   ]
  },
  {
   "cell_type": "markdown",
   "id": "6709cbf9",
   "metadata": {},
   "source": [
    "- ### How does the magnitude of mean u compare to mean v and mean w?\n",
    "\n",
    "Answer:  \n",
    "The magnitude of the mean longitudinal wind speed u_bar is significantly greater than the magnitudes of both v_bar and w_bar. This implies that the mean airflow  is predominantly in the direction of u, with very little lateral or vertical movement on average. This could suggest that the flow is relatively stable and consistent in the longitudinal direction with minimal turbulence in the lateral and vertical directions, at least in terms of the mean values. \n",
    "The negative value of the mean vertical wind speed w_bar suggests that, on average, there is a downward movement in the vertical component of the wind during the period of measurement. This downward motion is part of the natural turbulence and vertical exchange processes in the atmosphere. In meteorological terms, this could be indicative of subsiding air, which is often associated with high-pressure systems and more stable atmospheric conditions. It can also occur due to the effects of the terrain, thermal effects, or structures that alter the flow of the wind.\n"
   ]
  },
  {
   "cell_type": "markdown",
   "id": "a1b4525c",
   "metadata": {},
   "source": [
    "## Question 7\n",
    "\n",
    "From the data in Table 2 calculate $\\overline{u^{\\prime 2}}$, $\\overline{v^{\\prime 2}}$, and $\\overline{w^{\\prime 2}}$. Name those parameters.\n"
   ]
  },
  {
   "cell_type": "code",
   "execution_count": 20,
   "id": "de4502a0",
   "metadata": {},
   "outputs": [
    {
     "name": "stdout",
     "output_type": "stream",
     "text": [
      "The mean variance of u component is: 0.19374024626330555 m/s\n",
      "The mean variance of v component is: 0.1627990179388611 m/s\n",
      "The mean variance of w component is: 0.08094865447758025 m/s\n"
     ]
    }
   ],
   "source": [
    "import pandas as pd\n",
    "\n",
    "Table_2['u (m/s)'] = Table_2['u (m/s)'].astype(float)\n",
    "Table_2['v (m/s)'] = Table_2['v (m/s)'].astype(float)\n",
    "Table_2['w (m/s)'] = Table_2['w (m/s)'].astype(float)\n",
    "\n",
    "\n",
    "# Calculate the deviations from the mean for each component\n",
    "u_prime_squared = (Table_2['u (m/s)'] - u_mean) ** 2\n",
    "v_prime_squared = (Table_2['v (m/s)'] - v_mean) ** 2\n",
    "w_prime_squared = (Table_2['w (m/s)'] - w_mean) ** 2\n",
    "\n",
    "# Calculate the mean of these squared deviations (variances)\n",
    "u_var = u_prime_squared.mean()\n",
    "v_var = v_prime_squared.mean()\n",
    "w_var = w_prime_squared.mean()\n",
    "\n",
    "# Store the variances\n",
    "variances = {\n",
    "    'u_prime_squared_mean': u_var,\n",
    "    'v_prime_squared_mean': v_var,\n",
    "    'w_prime_squared_mean': w_var\n",
    "}\n",
    "\n",
    "variances\n",
    "print(f'The mean variance of u component is: {u_var} m/s')\n",
    "print(f'The mean variance of v component is: {v_var} m/s')\n",
    "print(f'The mean variance of w component is: {w_var} m/s')"
   ]
  },
  {
   "cell_type": "markdown",
   "id": "33df53a0",
   "metadata": {},
   "source": [
    "- ### Naming the Parameters: These parameters represent the variances of the fluctuating components of the wind velocity field:\n",
    "\n",
    "$\\overline{u^{\\prime 2}}$: Variance of the longitudinal (u-component) wind speed fluctuations. It indicates the spread of the fluctuations in the wind speed in the direction of the flow.\n",
    "\n",
    "$\\overline{v^{\\prime 2}}$: Variance of the lateral (v-component) wind speed fluctuations. It represents the spread of the side-to-side fluctuations perpendicular to the wind direction.\n",
    "\n",
    "$\\overline{w^{\\prime 2}}$: Variance of the vertical (w-component) wind speed fluctuations. This measures the intensity of the up and down fluctuations in the wind speed.\n",
    "\n"
   ]
  },
  {
   "cell_type": "markdown",
   "id": "c982385a",
   "metadata": {},
   "source": [
    "## Question 8\n",
    "\n",
    "From the data in Table 2 calculate the turbulence intensities $I_u$, $I_v$, and $I_w$.\n"
   ]
  },
  {
   "cell_type": "code",
   "execution_count": 21,
   "id": "64e671b2",
   "metadata": {},
   "outputs": [],
   "source": [
    "# Insert your code or text answer here.  If writing a text answer in .ipynb, change the cell type to Markdown.  If writing a text answer in .Rmd, just delete the tick marks surrounding the block"
   ]
  },
  {
   "cell_type": "code",
   "execution_count": 22,
   "id": "f891f723",
   "metadata": {},
   "outputs": [
    {
     "name": "stdout",
     "output_type": "stream",
     "text": [
      "The turblulent intensity of u is Iu = 0.18319412854850403\n",
      "The turblulent intensity of v is Iv = 0.16792970183700617\n",
      "The turblulent intensity of w is Iw = 0.11841492484474081\n"
     ]
    }
   ],
   "source": [
    "M = np.sqrt(u_mean**2 + v_mean**2 + w_mean**2)\n",
    "M\n",
    "sigma_u = np.sqrt(u_var)\n",
    "sigma_v = np.sqrt(v_var)\n",
    "sigma_w = np.sqrt(w_var)\n",
    "\n",
    "I_u = sigma_u/M\n",
    "I_v = sigma_v/M\n",
    "I_w = sigma_w/M\n",
    "\n",
    "print(f'The turblulent intensity of u is Iu = {I_u}')\n",
    "print(f'The turblulent intensity of v is Iv = {I_v}')\n",
    "print(f'The turblulent intensity of w is Iw = {I_w}')\n"
   ]
  },
  {
   "cell_type": "markdown",
   "id": "bcec6aeb",
   "metadata": {},
   "source": [
    "## Question 9\n",
    "\n",
    "From the data in Table 2 calculate the mean turbulent kinetic energy per unit mass $\\overline{e}$. What is the ratio of $\\overline{e}$ to the mean kinetic energy per unit mass?\n"
   ]
  },
  {
   "cell_type": "code",
   "execution_count": 23,
   "id": "5e82769a",
   "metadata": {},
   "outputs": [],
   "source": [
    "# Insert your code or text answer here.  If writing a text answer in .ipynb, change the cell type to Markdown.  If writing a text answer in .Rmd, just delete the tick marks surrounding the block"
   ]
  },
  {
   "cell_type": "code",
   "execution_count": 24,
   "id": "fce13f5c",
   "metadata": {},
   "outputs": [
    {
     "name": "stdout",
     "output_type": "stream",
     "text": [
      "Mean Turbulent Kinetic Energy (TKE) per unit mass: 0.21874395933987345 m^2/s^2\n",
      "Ratio of TKE(e_bar) to Mean Kinetic Energy per unit mass (MKE/m): 0.0757825679196972\n"
     ]
    }
   ],
   "source": [
    "# Calculating MKE per unit mass\n",
    "MKE_per_mass = 0.5 * (u_mean**2 + v_mean**2 + w_mean**2)\n",
    "\n",
    "# Calculating TKE using the prime squared means (which are the variances of u', v', and w')\n",
    "TKE = 0.5 * (u_var + v_var + w_var)\n",
    "\n",
    "# Calculating the ratio of TKE to MKE per unit mass\n",
    "ratio_TKE_to_MKE = TKE / MKE_per_mass\n",
    "\n",
    "print(f\"Mean Turbulent Kinetic Energy (TKE) per unit mass: {TKE} m^2/s^2\")\n",
    "print(f\"Ratio of TKE(e_bar) to Mean Kinetic Energy per unit mass (MKE/m): {ratio_TKE_to_MKE}\")"
   ]
  },
  {
   "cell_type": "markdown",
   "id": "13d6839e",
   "metadata": {},
   "source": [
    "## Question 10\n",
    "\n",
    "Which of the three wind components, $u$, $v$ or $w$, contains most turbulent kinetic energy per unit mass. Speculate about the shape of the eddies.\n"
   ]
  },
  {
   "cell_type": "code",
   "execution_count": 25,
   "id": "dc08a44d",
   "metadata": {},
   "outputs": [],
   "source": [
    "# Insert your code or text answer here.  If writing a text answer in .ipynb, change the cell type to Markdown.  If writing a text answer in .Rmd, just delete the tick marks surrounding the block"
   ]
  },
  {
   "cell_type": "code",
   "execution_count": 26,
   "id": "82dcd7ca",
   "metadata": {},
   "outputs": [
    {
     "name": "stdout",
     "output_type": "stream",
     "text": [
      "TKE for u component: 0.09687012313165277 m^2/s^2\n",
      "TKE for v component: 0.08139950896943055 m^2/s^2\n",
      "TKE for w component: 0.040474327238790124 m^2/s^2\n"
     ]
    }
   ],
   "source": [
    "\n",
    "# Calculate the turbulent kinetic energy (TKE) per unit mass for each component\n",
    "TKE_u = 0.5 * u_var\n",
    "TKE_v = 0.5 * v_var\n",
    "TKE_w = 0.5 * w_var\n",
    "\n",
    "# Print the TKE for each component\n",
    "print(f\"TKE for u component: {TKE_u} m^2/s^2\")\n",
    "print(f\"TKE for v component: {TKE_v} m^2/s^2\")\n",
    "print(f\"TKE for w component: {TKE_w} m^2/s^2\")\n"
   ]
  },
  {
   "cell_type": "markdown",
   "id": "3aeffc8e",
   "metadata": {},
   "source": [
    "- ### Q. Speculating shape of eddies based on individual TKE of u,v,w: \n",
    "\n",
    "Answer: \n",
    "The distribution of turbulent kinetic energy (TKE) across the 𝑢, 𝑣, and 𝑤 wind components reveals a nuanced portrait of atmospheric turbulence. The 𝑢 component, with the highest TKE, hosts large, elongated eddies that dominate energy and momentum transfer, closely aligned with the primary flow direction and significantly influencing mixing processes. In comparison, the 𝑣 component's moderately high TKE suggests less intense turbulence, with eddies that are less elongated and more varied in shape, possibly affected by secondary flow patterns and contributing to crosswind mixing. The 𝑤 component, marked by the lowest TKE, indicates smaller, isotropic vertical eddies with suppressed energy due to atmospheric stability or boundary layer effects, leading to less efficient vertical mixing. This highlights the anisotropic nature of atmospheric turbulence, with horizontal components playing a more significant role in mixing and dispersion than vertical movements.\n",
    "\n",
    "\n",
    "\n",
    "\n",
    "\n",
    "\n"
   ]
  },
  {
   "cell_type": "markdown",
   "id": "2cc7d761",
   "metadata": {},
   "source": [
    "## Question 11\n",
    "\n",
    "From the data in Table 2 calculate (a) $\\overline{u^{\\prime}v^{\\prime}}$ and (b) $\\overline{u^{\\prime}w^{\\prime}}$\n"
   ]
  },
  {
   "cell_type": "code",
   "execution_count": 27,
   "id": "df2d0abe",
   "metadata": {},
   "outputs": [
    {
     "name": "stdout",
     "output_type": "stream",
     "text": [
      "a. Mean of u'v': -0.006531817643361109\n",
      "b. Mean of u'w': -0.05364919793066667\n"
     ]
    }
   ],
   "source": [
    "import pandas as pd\n",
    "import numpy as np\n",
    "\n",
    "# Calculate the fluctuation components by subtracting the mean from each value\n",
    "Table_2['u_prime'] = Table_2['u (m/s)'] - u_mean\n",
    "Table_2['v_prime'] = Table_2['v (m/s)'] - v_mean\n",
    "Table_2['w_prime'] = Table_2['w (m/s)'] - w_mean\n",
    "\n",
    "# Now calculate the products of the fluctuations\n",
    "Table_2['u_prime_v_prime'] = Table_2['u_prime'] * Table_2['v_prime']\n",
    "Table_2['u_prime_w_prime'] = Table_2['u_prime'] * Table_2['w_prime']\n",
    "\n",
    "# Calculate the mean of the products to get Reynolds stresses\n",
    "u_v_prime_mean = Table_2['u_prime_v_prime'].mean()\n",
    "u_w_prime_mean = Table_2['u_prime_w_prime'].mean()\n",
    "\n",
    "# Print the results\n",
    "print(f\"a. Mean of u'v': {u_v_prime_mean}\")\n",
    "print(f\"b. Mean of u'w': {u_w_prime_mean}\")\n"
   ]
  },
  {
   "cell_type": "markdown",
   "id": "e2a8a6c7",
   "metadata": {},
   "source": [
    "## Question 12\n",
    "\n",
    "Calculate $r_{uv}$ and $r_{uw}$. Discuss your results.\n"
   ]
  },
  {
   "cell_type": "code",
   "execution_count": 28,
   "id": "656fa91d",
   "metadata": {},
   "outputs": [
    {
     "name": "stdout",
     "output_type": "stream",
     "text": [
      "The correlation coefficient ruv is: -0.03677885777548367\n",
      "The correlation coefficient ruv is: -0.4283990436498764\n"
     ]
    }
   ],
   "source": [
    "ruv = (u_v_prime_mean)/(sigma_u*sigma_v)\n",
    "ruw = (u_w_prime_mean)/(sigma_u*sigma_w)\n",
    "print(f'The correlation coefficient ruv is: {ruv}')\n",
    "print(f'The correlation coefficient ruv is: {ruw}')"
   ]
  },
  {
   "cell_type": "markdown",
   "id": "0fe55816",
   "metadata": {},
   "source": [
    "- ### Discuss: \n",
    "1. For ruv, which is the correlation between the u and v components, the value of -0.03677885777548367 indicates a very weak negative correlation, indicating when the wind velocity fluctuates in the u-direction, there's a very slight tendency for the v-direction to fluctuate in the opposite direction, but this tendency is so weak that it's almost negligible. \n",
    "\n",
    "2. For ruw, which is the correlation between the u and w components, has a value of -0.4283990436498764, indicating a moderate negative correlation. This suggests that when the wind fluctuates in the u-direction, there is a more noticeable tendency for the w-direction to fluctuate in the opposite direction. "
   ]
  },
  {
   "cell_type": "markdown",
   "id": "6e1e199f",
   "metadata": {},
   "source": [
    "## Question 13\n",
    "\n",
    "Plot a scatter graph of $u^{\\prime}$ ($x$-axis) vs. $w^{\\prime}$ ($y$-axis). Comment your graph and discuss if it looks like you expected.\n"
   ]
  },
  {
   "cell_type": "code",
   "execution_count": 29,
   "id": "7eb188c1",
   "metadata": {},
   "outputs": [
    {
     "data": {
      "image/png": "[encoded data removed]",
      "text/plain": [
       "<Figure size 640x480 with 1 Axes>"
      ]
     },
     "metadata": {},
     "output_type": "display_data"
    }
   ],
   "source": [
    "import matplotlib.pyplot as plt\n",
    "import numpy as np\n",
    "\n",
    "# Assuming you have 'u_prime' and 'w_prime' data from Table 2 as numpy arrays\n",
    "# Replace 'u_prime' and 'w_prime' with the actual variable names you have for the data\n",
    "\n",
    "u_prime = np.array([Table_2['u_prime']])  # replace with your u' data\n",
    "w_prime = np.array([Table_2['w_prime']])  # replace with your w' data\n",
    "\n",
    "plt.scatter(u_prime, w_prime)\n",
    "plt.xlabel(\"u' (m/s)\")\n",
    "plt.ylabel(\"w' (m/s)\")\n",
    "plt.title(\"Scatter Plot of u' vs w\")\n",
    "plt.grid(True)\n",
    "plt.show()\n"
   ]
  },
  {
   "cell_type": "markdown",
   "id": "0e54bf5c",
   "metadata": {},
   "source": [
    "- ### Comment: \n",
    "\n",
    "There is a negative moderate correleation. We can see that at the downdraft, the horizontal motion or u component is less and at the downdraft, the horizontal motion is more. We get a net downward transport of momentum at the Earth's surface. According to the quadrant analysis of momentum exchange, there is slow upward moving eddy with negative u and positive w component and fast horizontal wind due to sweeping of faster moving eddies toward the surface, resulting in a negative w_prime and positive u_prime."
   ]
  },
  {
   "cell_type": "markdown",
   "id": "59ccc86f",
   "metadata": {},
   "source": [
    "## Question 14\n",
    "\n",
    "Using your result in question 11 (b), calculate the friction velocity $u_{\\ast}$ based on the high-frequency data and compare it to your answer in question 2.\n"
   ]
  },
  {
   "cell_type": "code",
   "execution_count": 30,
   "id": "686e5d68",
   "metadata": {},
   "outputs": [
    {
     "name": "stdout",
     "output_type": "stream",
     "text": [
      "The friction velocity is: 0.2316229650329748 m/s\n"
     ]
    }
   ],
   "source": [
    "#From, 11b\n",
    "import numpy as np\n",
    "\n",
    "u_star2 = np.sqrt(-u_w_prime_mean)\n",
    "print(f'The friction velocity is: {u_star2} m/s')"
   ]
  },
  {
   "cell_type": "markdown",
   "id": "f3ee0515",
   "metadata": {},
   "source": [
    "- ### Compare: \n",
    "\n",
    "1. The friction velocity in question 2 was a generic definition which is based on the slope of velocity profile in conjunction with von Kármán's constant. Since, it is based on a vertical profile of the wind speed at different heights, it represents spatially-averaged conditions that may not be directly comparable to the high-frequency, single-point measurements used for Question 14. It may not be valid under all atmospheric condition. The slope from Question 2 may represent a more averaged condition over a longer period or a different time or represent more spatially-averaged condition that may not be directly comparable to the high-frequency, single-point measurements used for ques 14.\n",
    "\n",
    "\n",
    "\n",
    "2. Uses Reynold's decomposition to measure u_star value from question 14 which is more simpler as it's near the Earth's surface. It depends largely on wind speed. The higher the wind speed, the higher the friction velocity. it also depends on roughness of a given surface. A smooth surface at a same wind speed will have lower u_star value than a rough surface with the same wind speed. And it depends on the intensity of thermal convection. If there's a lot of heat in the Earth surface, the vertical motion would be quite different than in a stable boundary layer condition. "
   ]
  }
 ],
 "metadata": {
  "kernelspec": {
   "display_name": "Python 3 (ipykernel)",
   "language": "python",
   "name": "python3"
  },
  "language_info": {
   "codemirror_mode": {
    "name": "ipython",
    "version": 3
   },
   "file_extension": ".py",
   "mimetype": "text/x-python",
   "name": "python",
   "nbconvert_exporter": "python",
   "pygments_lexer": "ipython3",
   "version": "3.10.9"
  }
 },
 "nbformat": 4,
 "nbformat_minor": 5
}
